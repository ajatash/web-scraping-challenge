{
 "cells": [
  {
   "cell_type": "code",
   "execution_count": 1,
   "metadata": {},
   "outputs": [],
   "source": [
    "from bs4 import BeautifulSoup as bs\n",
    "import requests\n",
    "from splinter import Browser\n",
    "import pandas as pd"
   ]
  },
  {
   "cell_type": "code",
   "execution_count": 2,
   "metadata": {},
   "outputs": [],
   "source": [
    "\n",
    "executable_path = {'executable_path': '/usr/local/Caskroom/chromedriver/80.0.3987.106/chromedriver'}\n",
    "browser = Browser('chrome', **executable_path, headless=False)"
   ]
  },
  {
   "cell_type": "code",
   "execution_count": 3,
   "metadata": {},
   "outputs": [],
   "source": [
    "url = 'https://mars.nasa.gov/news/?page=0&per_page=40&order=publish_date+desc%2Ccreated_at+desc&search=&category=19%2C165%2C184%2C204&blank_scope=Latest'"
   ]
  },
  {
   "cell_type": "code",
   "execution_count": 4,
   "metadata": {},
   "outputs": [],
   "source": [
    "response = requests.get(url)"
   ]
  },
  {
   "cell_type": "code",
   "execution_count": 5,
   "metadata": {},
   "outputs": [],
   "source": [
    "soup = bs(response.text, 'lxml')"
   ]
  },
  {
   "cell_type": "code",
   "execution_count": 6,
   "metadata": {
    "tags": [
     "outputPrepend"
    ]
   },
   "outputs": [
    {
     "output_type": "stream",
     "name": "stdout",
     "text": "aveled&quot;:null,&quot;gallery_subnav_link&quot;:&quot;https://mars.nasa.gov/odyssey/&quot;}],&quot;search&quot;:true,&quot;search_placeholder&quot;:{&quot;placeholder&quot;:&quot;&quot;},&quot;highlight_current&quot;:{&quot;highlight&quot;:true,&quot;current_id&quot;:83,&quot;parent_ids&quot;:[]},&quot;search_submit&quot;:&quot;/search/&quot;}\">\n         </nav>\n        </div>\n       </div>\n      </div>\n     </header>\n    </div>\n    <div id=\"sticky_nav_spacer\">\n    </div>\n    <div id=\"page\">\n     <div class=\"page_cover\">\n     </div>\n     <!-- title to go in the page_header -->\n     <div class=\"header_mask\">\n      <section class=\"content_page module\">\n      </section>\n     </div>\n     <div class=\"grid_list_page module content_page\">\n      <div class=\"grid_layout\">\n       <article>\n        <header id=\"page_header\">\n        </header>\n        <div class=\"react_grid_list grid_list_container\" data-react-cache-id=\"GridListPage-0\" data-react-class=\"GridListPage\" data-react-props='{\"left_column\":false,\"class_name\":\"\",\"default_view\":\"list_view\",\"model\":\"news_items\",\"view_toggle\":false,\"search\":\"true\",\"list_item\":\"News\",\"title\":\"News\",\"categories\":[\"19,165,184,204\"],\"order\":\"publish_date desc,created_at desc\",\"no_items_text\":\"There are no items matching these criteria.\",\"site_title\":\"NASA’s Mars Exploration Program \",\"short_title\":\"Mars\",\"site_share_image\":\"/system/site_config_values/meta_share_images/1_142497main_PIA03154-200.jpg\",\"per_page\":null,\"filters\":\"[ [ \\\"date\\\", [ [ \\\"2020\\\", \\\"2020\\\" ], [ \\\"2019\\\", \\\"2019\\\" ], [ \\\"2018\\\", \\\"2018\\\" ], [ \\\"2017\\\", \\\"2017\\\" ], [ \\\"2016\\\", \\\"2016\\\" ], [ \\\"2015\\\", \\\"2015\\\" ], [ \\\"2014\\\", \\\"2014\\\" ], [ \\\"2013\\\", \\\"2013\\\" ], [ \\\"2012\\\", \\\"2012\\\" ], [ \\\"2011\\\", \\\"2011\\\" ], [ \\\"2010\\\", \\\"2010\\\" ], [ \\\"2009\\\", \\\"2009\\\" ], [ \\\"2008\\\", \\\"2008\\\" ], [ \\\"2007\\\", \\\"2007\\\" ], [ \\\"2006\\\", \\\"2006\\\" ], [ \\\"2005\\\", \\\"2005\\\" ], [ \\\"2004\\\", \\\"2004\\\" ], [ \\\"2003\\\", \\\"2003\\\" ], [ \\\"2002\\\", \\\"2002\\\" ], [ \\\"2001\\\", \\\"2001\\\" ], [ \\\"2000\\\", \\\"2000\\\" ] ], [ \\\"Latest\\\", \\\"\\\" ], false ], [ \\\"categories\\\", [ [ \\\"Feature Stories\\\", 165 ], [ \\\"Press Releases\\\", 19 ], [ \\\"Spotlights\\\", 184 ], [ \\\"Status Reports\\\", 204 ] ], [ \\\"All Categories\\\", \\\"\\\" ], false ] ]\",\"conditions\":null,\"scope_in_title\":true,\"options\":{\"blank_scope\":\"Latest\"},\"results_in_title\":false}'>\n        </div>\n       </article>\n      </div>\n     </div>\n     <section class=\"module suggested_features\">\n      <div class=\"grid_layout\">\n       <header>\n        <h2 class=\"module_title\">\n         You Might Also Like\n        </h2>\n       </header>\n       <section>\n        <script>\n         $(document).ready(function(){\n    $(\".features\").slick({\n      dots: false,\n      infinite: true,\n      speed: 300,\n      slide: '.features .slide',\n      slidesToShow: 3,\n      slidesToScroll: 3,\n      lazyLoad: 'ondemand',\n      centerMode: false,\n      arrows: true,\n      appendArrows: '.features .slick-nav',\n      appendDots: \".features .slick-nav\",\n      responsive: [{\"breakpoint\":953,\"settings\":{\"slidesToShow\":2,\"slidesToScroll\":2,\"centerMode\":false}},{\"breakpoint\":480,\"settings\":{\"slidesToShow\":1,\"slidesToScroll\":1,\"centerMode\":true,\"arrows\":false,\"centerPadding\":\"25px\"}}]\n    });\n  });\n        </script>\n        <div class=\"features\">\n         <div class=\"slide\">\n          <div class=\"image_and_description_container\">\n           <a href=\"/news/8622/virginia-middle-school-student-earns-honor-of-naming-nasas-next-mars-rover/\">\n            <div class=\"rollover_description\">\n             <div class=\"rollover_description_inner\">\n              NASA chose a seventh-grader from Virginia as winner of the agency's \"Name the Rover\" essay contest. Alexander Mather's entry for \"Perseverance\" was voted tops among 28,000 entries.\n             </div>\n             <div class=\"overlay_arrow\">\n              <img alt=\"More\" src=\"/assets/overlay-arrow.png\"/>\n             </div>\n            </div>\n            <img alt=\"Virginia Middle School Student Earns Honor of Naming NASA's Next Mars Rover\" class=\"img-lazy\" data-lazy=\"/system/news_items/list_view_images/8622_1-PIA23764-RoverNamePlateonMars-320x240.jpg\" src=\"/assets/loading_320x240.png\"/>\n           </a>\n          </div>\n          <div class=\"content_title\">\n           <a href=\"/news/8622/virginia-middle-school-student-earns-honor-of-naming-nasas-next-mars-rover/\">\n            Virginia Middle School Student Earns Honor of Naming NASA's Next Mars Rover\n           </a>\n          </div>\n         </div>\n         <div class=\"slide\">\n          <div class=\"image_and_description_container\">\n           <a href=\"/news/8606/nasa-prepares-for-moon-and-mars-with-new-addition-to-its-deep-space-network/\">\n            <div class=\"rollover_description\">\n             <div class=\"rollover_description_inner\">\n              Robotic spacecraft will be able to communicate with the dish using radio waves and lasers.\n             </div>\n             <div class=\"overlay_arrow\">\n              <img alt=\"More\" src=\"/assets/overlay-arrow.png\"/>\n             </div>\n            </div>\n            <img alt=\"NASA Prepares for Moon and Mars With New Addition to Its Deep Space Network\" class=\"img-lazy\" data-lazy=\"/system/news_items/list_view_images/8606_list_image.jpg\" src=\"/assets/loading_320x240.png\"/>\n           </a>\n          </div>\n          <div class=\"content_title\">\n           <a href=\"/news/8606/nasa-prepares-for-moon-and-mars-with-new-addition-to-its-deep-space-network/\">\n            NASA Prepares for Moon and Mars With New Addition to Its Deep Space Network\n           </a>\n          </div>\n         </div>\n         <div class=\"slide\">\n          <div class=\"image_and_description_container\">\n           <a href=\"/news/8603/nasa-administrator-statement-on-moon-to-mars-initiative-fy-2021-budget/\">\n            <div class=\"rollover_description\">\n             <div class=\"rollover_description_inner\">\n              Jim Bridenstine addresses NASA's ambitious plans for the coming years, including Mars Sample Return.\n             </div>\n             <div class=\"overlay_arrow\">\n              <img alt=\"More\" src=\"/assets/overlay-arrow.png\"/>\n             </div>\n            </div>\n            <img alt=\"NASA Administrator Statement on Moon to Mars Initiative, FY 2021 Budget\" class=\"img-lazy\" data-lazy=\"/system/news_items/list_view_images/8603_list_image.jpg\" src=\"/assets/loading_320x240.png\"/>\n           </a>\n          </div>\n          <div class=\"content_title\">\n           <a href=\"/news/8603/nasa-administrator-statement-on-moon-to-mars-initiative-fy-2021-budget/\">\n            NASA Administrator Statement on Moon to Mars Initiative, FY 2021 Budget\n           </a>\n          </div>\n         </div>\n         <div class=\"slide\">\n          <div class=\"image_and_description_container\">\n           <a href=\"/news/8585/nasas-mars-2020-rover-closer-to-getting-its-name/\">\n            <div class=\"rollover_description\">\n             <div class=\"rollover_description_inner\">\n              155 students from across the U.S. have been chosen as semifinalists in NASA's essay contest to name the Mars 2020 rover, and see it launch from Cape Canaveral this July.\n             </div>\n             <div class=\"overlay_arrow\">\n              <img alt=\"More\" src=\"/assets/overlay-arrow.png\"/>\n             </div>\n            </div>\n            <img alt=\"NASA's Mars 2020 Rover Closer to Getting Its Name\" class=\"img-lazy\" data-lazy=\"/system/news_items/list_view_images/8585_name20190625-320x240.jpg\" src=\"/assets/loading_320x240.png\"/>\n           </a>\n          </div>\n          <div class=\"content_title\">\n           <a href=\"/news/8585/nasas-mars-2020-rover-closer-to-getting-its-name/\">\n            NASA's Mars 2020 Rover Closer to Getting Its Name\n           </a>\n          </div>\n         </div>\n         <div class=\"slide\">\n          <div class=\"image_and_description_container\">\n           <a href=\"/news/8508/nasa-invites-students-to-name-mars-2020-rover/\">\n            <div class=\"rollover_description\">\n             <div class=\"rollover_description_inner\">\n              Through Nov. 1, K-12 students in the U.S. are encouraged to enter an essay contest to name NASA's next Mars rover.\n             </div>\n             <div class=\"overlay_arrow\">\n              <img alt=\"More\" src=\"/assets/overlay-arrow.png\"/>\n             </div>\n            </div>\n            <img alt=\"NASA Invites Students to Name Mars 2020 Rover\" class=\"img-lazy\" data-lazy=\"/system/news_items/list_view_images/8508_Name_A_unannotated_MAIN-th.jpg\" src=\"/assets/loading_320x240.png\"/>\n           </a>\n          </div>\n          <div class=\"content_title\">\n           <a href=\"/news/8508/nasa-invites-students-to-name-mars-2020-rover/\">\n            NASA Invites Students to Name Mars 2020 Rover\n           </a>\n          </div>\n         </div>\n         <div class=\"slide\">\n          <div class=\"image_and_description_container\">\n           <a href=\"/news/8442/nasas-curiosity-mars-rover-finds-a-clay-cache/\">\n            <div class=\"rollover_description\">\n             <div class=\"rollover_description_inner\">\n              The rover recently drilled two samples, and both showed the highest levels of clay ever found during the mission.\n             </div>\n             <div class=\"overlay_arrow\">\n              <img alt=\"More\" src=\"/assets/overlay-arrow.png\"/>\n             </div>\n            </div>\n            <img alt=\"NASA's Curiosity Mars Rover Finds a Clay Cache\" class=\"img-lazy\" data-lazy=\"/system/news_items/list_view_images/8442_PIA23240_32x24.jpg\" src=\"/assets/loading_320x240.png\"/>\n           </a>\n          </div>\n          <div class=\"content_title\">\n           <a href=\"/news/8442/nasas-curiosity-mars-rover-finds-a-clay-cache/\">\n            NASA's Curiosity Mars Rover Finds a Clay Cache\n           </a>\n          </div>\n         </div>\n         <div class=\"grid_layout\">\n          <div class=\"slick-nav_container\">\n           <div class=\"slick-nav\">\n           </div>\n          </div>\n         </div>\n        </div>\n       </section>\n      </div>\n     </section>\n    </div>\n    <footer id=\"site_footer\">\n     <div class=\"grid_layout\">\n      <section class=\"upper_footer\">\n       <div class=\"share_newsletter_container\">\n        <div class=\"newsletter\">\n         <h2>\n          Get the Mars Newsletter\n         </h2>\n         <form action=\"/newsletter-subscribe\">\n          <input id=\"email\" name=\"email\" placeholder=\"enter email address\" type=\"email\" value=\"\"/>\n          <input data-disable-with=\"\" name=\"commit\" type=\"submit\" value=\"\"/>\n         </form>\n        </div>\n        <div class=\"share\">\n         <h2>\n          Follow the Journey\n         </h2>\n         <div class=\"social_icons\">\n          <!-- AddThis Button BEGIN -->\n          <div class=\"addthis_toolbox addthis_default_style addthis_32x32_style\">\n           <a addthis:userid=\"MarsCuriosity\" class=\"addthis_button_twitter_follow icon\">\n            <img alt=\"twitter\" src=\"/assets/twitter_icon@2x.png\"/>\n           </a>\n           <a addthis:userid=\"MarsCuriosity\" class=\"addthis_button_facebook_follow icon\">\n            <img alt=\"facebook\" src=\"/assets/facebook_icon@2x.png\"/>\n           </a>\n           <a addthis:userid=\"nasa\" class=\"addthis_button_instagram_follow icon\">\n            <img alt=\"instagram\" src=\"/assets/instagram_icon@2x.png\"/>\n           </a>\n           <a addthis:url=\"https://mars.nasa.gov/rss/api/?feed=news&amp;category=all&amp;feedtype=rss\" class=\"addthis_button_rss_follow icon\">\n            <img alt=\"rss\" src=\"/assets/rss_icon@2x.png\"/>\n           </a>\n          </div>\n         </div>\n         <script src=\"//s7.addthis.com/js/300/addthis_widget.js#pubid=ra-5a690e4c1320e328\">\n         </script>\n        </div>\n       </div>\n       <div class=\"gradient_line\">\n       </div>\n      </section>\n      <section class=\"sitemap\">\n       <div class=\"sitemap_directory\" id=\"sitemap_directory\">\n        <div class=\"sitemap_block\">\n         <div class=\"footer_sitemap_item\">\n          <h3 class=\"sitemap_title\">\n           <a href=\"/#red_planet\">\n            The Red Planet\n           </a>\n          </h3>\n          <ul>\n           <li>\n            <div class=\"global_subnav_container\">\n             <ul class=\"subnav\">\n              <li>\n               <a href=\"/#red_planet/0\" target=\"_self\">\n                Dashboard\n               </a>\n              </li>\n              <li>\n               <a href=\"/#red_planet/1\" target=\"_self\">\n                Science Goals\n               </a>\n              </li>\n              <li>\n               <a href=\"/#red_planet/2\" target=\"_self\">\n                The Planet\n               </a>\n              </li>\n              <li>\n               <a href=\"/#red_planet/3\" target=\"_self\">\n                Atmosphere\n               </a>\n              </li>\n              <li>\n               <a href=\"/#red_planet/4\" target=\"_self\">\n                Astrobiology\n               </a>\n              </li>\n              <li>\n               <a href=\"/#red_planet/5\" target=\"_self\">\n                Past, Present, Future, Timeline\n               </a>\n              </li>\n             </ul>\n            </div>\n           </li>\n          </ul>\n         </div>\n        </div>\n        <div class=\"sitemap_block\">\n         <div class=\"footer_sitemap_item\">\n          <h3 class=\"sitemap_title\">\n           <a href=\"/#mars_exploration_program\">\n            The Program\n           </a>\n          </h3>\n          <ul>\n           <li>\n            <div class=\"global_subnav_container\">\n             <ul class=\"subnav\">\n              <li>\n               <a href=\"/#mars_exploration_program/0\" target=\"_self\">\n                Mission Statement\n               </a>\n              </li>\n              <li>\n               <a href=\"/#mars_exploration_program/1\" target=\"_self\">\n                About the Program\n               </a>\n              </li>\n              <li>\n               <a href=\"/#mars_exploration_program/2\" target=\"_self\">\n                Organization\n               </a>\n              </li>\n              <li>\n               <a href=\"/#mars_exploration_program/3\" target=\"_self\">\n                Why Mars?\n               </a>\n              </li>\n              <li>\n               <a href=\"/#mars_exploration_program/4\" target=\"_self\">\n                Research Programs\n               </a>\n              </li>\n              <li>\n               <a href=\"/#mars_exploration_program/5\" target=\"_self\">\n                Planetary Resources\n               </a>\n              </li>\n              <li>\n               <a href=\"/#mars_exploration_program/6\" target=\"_self\">\n                Technologies\n               </a>\n              </li>\n             </ul>\n            </div>\n           </li>\n          </ul>\n         </div>\n        </div>\n        <div class=\"sitemap_block\">\n         <div class=\"footer_sitemap_item\">\n          <h3 class=\"sitemap_title\">\n           <a href=\"/#news_and_events\">\n            News &amp; Events\n           </a>\n          </h3>\n          <ul>\n           <li>\n            <div class=\"global_subnav_container\">\n             <ul class=\"subnav\">\n              <li>\n               <a href=\"/news\" target=\"_self\">\n                News\n               </a>\n              </li>\n              <li>\n               <a href=\"/events\" target=\"_self\">\n                Events\n               </a>\n              </li>\n             </ul>\n            </div>\n           </li>\n          </ul>\n         </div>\n        </div>\n        <div class=\"sitemap_block\">\n         <div class=\"footer_sitemap_item\">\n          <h3 class=\"sitemap_title\">\n           <a href=\"/#multimedia\">\n            Multimedia\n           </a>\n          </h3>\n          <ul>\n           <li>\n            <div class=\"global_subnav_container\">\n             <ul class=\"subnav\">\n              <li>\n               <a href=\"/multimedia/images/\" target=\"_self\">\n                Images\n               </a>\n              </li>\n              <li>\n               <a href=\"/multimedia/videos/\" target=\"_self\">\n                Videos\n               </a>\n              </li>\n              <li>\n               <a href=\"/multimedia/more-resources/\" target=\"_self\">\n                More Resources\n               </a>\n              </li>\n             </ul>\n            </div>\n           </li>\n          </ul>\n         </div>\n        </div>\n        <div class=\"sitemap_block\">\n         <div class=\"footer_sitemap_item\">\n          <h3 class=\"sitemap_title\">\n           <a href=\"/#missions_gallery_subnav\">\n            Missions\n           </a>\n          </h3>\n          <ul>\n           <li>\n            <div class=\"global_subnav_container\">\n             <ul class=\"subnav\">\n              <li>\n               <a href=\"/mars-exploration/missions/?category=167\" target=\"_self\">\n                Past\n               </a>\n              </li>\n              <li>\n               <a href=\"/mars-exploration/missions/?category=170\" target=\"_self\">\n                Present\n               </a>\n              </li>\n              <li>\n               <a href=\"/mars-exploration/missions/?category=171\" target=\"_self\">\n                Future\n               </a>\n              </li>\n              <li>\n               <a href=\"/mars-exploration/partners\" target=\"_self\">\n                International Partners\n               </a>\n              </li>\n             </ul>\n            </div>\n           </li>\n          </ul>\n         </div>\n        </div>\n        <div class=\"sitemap_block\">\n         <div class=\"footer_sitemap_item\">\n          <h3 class=\"sitemap_title\">\n           <a href=\"/#more\">\n            More\n           </a>\n          </h3>\n          <ul>\n           <li>\n            <div class=\"global_subnav_container\">\n             <ul class=\"subnav\">\n             </ul>\n            </div>\n           </li>\n          </ul>\n         </div>\n        </div>\n       </div>\n       <div class=\"gradient_line\">\n       </div>\n      </section>\n      <section class=\"lower_footer\">\n       <div class=\"nav_container\">\n        <nav>\n         <ul>\n          <li>\n           <a href=\"http://science.nasa.gov/\" target=\"_blank\">\n            NASA Science Mission Directorate\n           </a>\n          </li>\n          <li>\n           <a href=\"https://www.jpl.nasa.gov/copyrights.php\" target=\"_blank\">\n            Privacy\n           </a>\n          </li>\n          <li>\n           <a href=\"http://www.jpl.nasa.gov/imagepolicy/\" target=\"_blank\">\n            Image Policy\n           </a>\n          </li>\n          <li>\n           <a href=\"https://mars.nasa.gov/feedback/\" target=\"_self\">\n            Feedback\n           </a>\n          </li>\n         </ul>\n        </nav>\n       </div>\n       <div class=\"credits\">\n        <div class=\"footer_brands_top\">\n         <p>\n          Managed by the Mars Exploration Program and the Jet Propulsion Laboratory for NASA’s Science Mission Directorate\n         </p>\n        </div>\n        <!-- .footer_brands -->\n        <!-- %a.jpl{href: \"\", target: \"_blank\"}Institution -->\n        <!-- -->\n        <!-- %a.caltech{href: \"\", target: \"_blank\"}Institution -->\n        <!-- .staff -->\n        <!-- %p -->\n        <!-- - get_staff_for_category(get_field_from_admin_config(:web_staff_category_id)) -->\n        <!-- - @staff.each_with_index do |staff, idx| -->\n        <!-- - unless staff.is_in_footer == 0 -->\n        <!-- = staff.title + \": \" -->\n        <!-- - if staff.contact_link =~ /@/ -->\n        <!-- = mail_to staff.contact_link, staff.name, :subject => \"[#{@site_title}]\" -->\n        <!-- - elsif staff.contact_link.present? -->\n        <!-- = link_to staff.name, staff.contact_link -->\n        <!-- - else -->\n        <!-- = staff.name -->\n        <!-- - unless (idx + 1 == @staff.size) -->\n        <!-- %br -->\n       </div>\n      </section>\n     </div>\n    </footer>\n   </div>\n  </div>\n  <script id=\"_fed_an_ua_tag\" src=\"https://dap.digitalgov.gov/Universal-Federated-Analytics-Min.js?agency=NASA&amp;subagency=JPL-Mars-MEPJPL&amp;pua=UA-9453474-9,UA-118212757-11&amp;dclink=true&amp;sp=searchbox&amp;exts=tif,tiff,wav\" type=\"text/javascript\">\n  </script>\n </body>\n</html>\n\n"
    }
   ],
   "source": [
    "print(soup.prettify())"
   ]
  },
  {
   "cell_type": "code",
   "execution_count": 7,
   "metadata": {},
   "outputs": [],
   "source": [
    "articles = soup.find_all('div', class_=\"slide\")"
   ]
  },
  {
   "cell_type": "code",
   "execution_count": 8,
   "metadata": {},
   "outputs": [
    {
     "output_type": "stream",
     "name": "stdout",
     "text": "-------------\n\n\nVirginia Middle School Student Earns Honor of Naming NASA's Next Mars Rover\n\n\n\nNASA chose a seventh-grader from Virginia as winner of the agency's \"Name the Rover\" essay contest. Alexander Mather's entry for \"Perseverance\" was voted tops among 28,000 entries. \n\n-------------\n-------------\n\n\nNASA Prepares for Moon and Mars With New Addition to Its Deep Space Network\n\n\n\nRobotic spacecraft will be able to communicate with the dish using radio waves and lasers.\n\n-------------\n-------------\n\n\nNASA Administrator Statement on Moon to Mars Initiative, FY 2021 Budget\n\n\n\nJim Bridenstine addresses NASA's ambitious plans for the coming years, including Mars Sample Return.\n\n-------------\n-------------\n\n\nNASA's Mars 2020 Rover Closer to Getting Its Name\n\n\n\n155 students from across the U.S. have been chosen as semifinalists in NASA's essay contest to name the Mars 2020 rover, and see it launch from Cape Canaveral this July.\n\n-------------\n-------------\n\n\nNASA Invites Students to Name Mars 2020 Rover\n\n\n\nThrough Nov. 1, K-12 students in the U.S. are encouraged to enter an essay contest to name NASA's next Mars rover.\n\n-------------\n-------------\n\n\nNASA's Curiosity Mars Rover Finds a Clay Cache\n\n\n\nThe rover recently drilled two samples, and both showed the highest levels of clay ever found during the mission.\n\n-------------\n"
    }
   ],
   "source": [
    "\n",
    "for article in articles:\n",
    "  \n",
    "    try:\n",
    "      \n",
    "        title = article.find('div', class_='content_title').text\n",
    "        p = article.find('div', class_='rollover_description_inner').text\n",
    "        \n",
    "\n",
    "       \n",
    "        if (title and p):\n",
    "            print('-------------')\n",
    "            print(title)\n",
    "            print(p)\n",
    "            print('-------------')\n",
    "    except AttributeError as e:\n",
    "        print(e)"
   ]
  },
  {
   "cell_type": "code",
   "execution_count": 9,
   "metadata": {},
   "outputs": [],
   "source": [
    "## JPL Space Images Featured Image"
   ]
  },
  {
   "cell_type": "code",
   "execution_count": 10,
   "metadata": {},
   "outputs": [],
   "source": [
    "url = 'https://www.jpl.nasa.gov/spaceimages/?search=&category=Mars'\n",
    "browser.visit(url)"
   ]
  },
  {
   "cell_type": "code",
   "execution_count": 11,
   "metadata": {},
   "outputs": [],
   "source": [
    "full_image_element = browser.find_by_id(\"full_image\")\n",
    "full_image_element.click()"
   ]
  },
  {
   "cell_type": "code",
   "execution_count": 12,
   "metadata": {},
   "outputs": [],
   "source": [
    "browser.is_element_present_by_text(\"more info\", wait_time=1)\n",
    "\n",
    "more_info_element = browser.find_link_by_partial_text(\"more info\")\n",
    "\n",
    "more_info_element.click()"
   ]
  },
  {
   "cell_type": "code",
   "execution_count": 13,
   "metadata": {},
   "outputs": [],
   "source": [
    "html = browser.html\n",
    "image_soup = bs(html, \"html.parser\")"
   ]
  },
  {
   "cell_type": "code",
   "execution_count": 14,
   "metadata": {},
   "outputs": [
    {
     "output_type": "execute_result",
     "data": {
      "text/plain": "'/spaceimages/images/largesize/PIA17832_hires.jpg'"
     },
     "metadata": {},
     "execution_count": 14
    }
   ],
   "source": [
    "image_url = image_soup.select_one('figure.lede a img').get(\"src\")\n",
    "image_url"
   ]
  },
  {
   "cell_type": "code",
   "execution_count": 15,
   "metadata": {},
   "outputs": [
    {
     "output_type": "execute_result",
     "data": {
      "text/plain": "'https://www.jpl.nasa.gov/spaceimages/images/largesize/PIA17832_hires.jpg'"
     },
     "metadata": {},
     "execution_count": 15
    }
   ],
   "source": [
    "img_url = f'https://www.jpl.nasa.gov{image_url}'\n",
    "img_url"
   ]
  },
  {
   "cell_type": "code",
   "execution_count": 16,
   "metadata": {},
   "outputs": [],
   "source": [
    "\n",
    "url = \"https://www.jpl.nasa.gov/spaceimages/?search=&category=Mars\"\n",
    "browser.visit(url)\n",
    "   \n",
    "html = browser.html\n",
    "soup = bs(html, \"lxml\")\n",
    "    \n",
    "full_image_path = soup.find_all('img')[2][\"src\"]\n",
    "full_image_url = full_image_path + url"
   ]
  },
  {
   "cell_type": "code",
   "execution_count": 17,
   "metadata": {},
   "outputs": [
    {
     "output_type": "execute_result",
     "data": {
      "text/plain": "'/assets/images/overlay-arrow.pnghttps://www.jpl.nasa.gov/spaceimages/?search=&category=Mars'"
     },
     "metadata": {},
     "execution_count": 17
    }
   ],
   "source": [
    "full_image_url"
   ]
  },
  {
   "cell_type": "code",
   "execution_count": 18,
   "metadata": {},
   "outputs": [],
   "source": [
    "## Mars Weather"
   ]
  },
  {
   "cell_type": "code",
   "execution_count": 19,
   "metadata": {},
   "outputs": [],
   "source": [
    "## Mars Hemispheres"
   ]
  },
  {
   "cell_type": "code",
   "execution_count": 20,
   "metadata": {},
   "outputs": [],
   "source": [
    "url = \"https://astrogeology.usgs.gov/search/results?q=hemisphere+enhanced&k1=target&v1=Mars\"\n",
    "browser.visit(url)"
   ]
  },
  {
   "cell_type": "code",
   "execution_count": 21,
   "metadata": {},
   "outputs": [
    {
     "output_type": "execute_result",
     "data": {
      "text/plain": "[{'image_url': 'http://astropedia.astrogeology.usgs.gov/download/Mars/Viking/cerberus_enhanced.tif/full.jpg',\n  'title': 'Cerberus Hemisphere Enhanced'},\n {'image_url': 'http://astropedia.astrogeology.usgs.gov/download/Mars/Viking/schiaparelli_enhanced.tif/full.jpg',\n  'title': 'Schiaparelli Hemisphere Enhanced'},\n {'image_url': 'http://astropedia.astrogeology.usgs.gov/download/Mars/Viking/syrtis_major_enhanced.tif/full.jpg',\n  'title': 'Syrtis Major Hemisphere Enhanced'},\n {'image_url': 'http://astropedia.astrogeology.usgs.gov/download/Mars/Viking/valles_marineris_enhanced.tif/full.jpg',\n  'title': 'Valles Marineris Hemisphere Enhanced'}]"
     },
     "metadata": {},
     "execution_count": 21
    }
   ],
   "source": [
    "hemisphere_image_urls = []\n",
    "\n",
    "links = browser.find_by_css(\"a.product-item h3\")\n",
    "for i in range(len(links)):\n",
    "    hemisphere = {}\n",
    "    browser.find_by_css(\"a.product-item h3\")[i].click()\n",
    "    image_url = browser.find_by_text(\"Sample\").first\n",
    "    hemisphere[\"image_url\"] = image_url[\"href\"]\n",
    "    hemisphere[\"title\"] = browser.find_by_css(\"h2.title\").text\n",
    "    hemisphere_image_urls.append(hemisphere)\n",
    "    browser.back()\n",
    "\n",
    "hemisphere_image_urls   "
   ]
  },
  {
   "cell_type": "code",
   "execution_count": null,
   "metadata": {},
   "outputs": [],
   "source": [
    "## Mars Weather"
   ]
  },
  {
   "cell_type": "code",
   "execution_count": null,
   "metadata": {},
   "outputs": [],
   "source": [
    "mars_weather_url = 'https://twitter.com/marswxreport?lang=en'\n",
    "response = requests.get(mars_weather_url)\n",
    "soup = BeautifulSoup(response.text, 'lxml')\n",
    "\n",
    "reports = soup.find_all('div', class_='css-901oao r-jwli3a r-1qd0xha r-a023e6 r-16dba41 r-ad9z0x r-bcqeeo r-bnwqim r-qvutc0')\n",
    "for report in reports:\n",
    "    try:\n",
    "        mars_weather = report.find('span').text\n",
    "        if (mars_weather):\n",
    "            print(mars_weather)\n",
    "    except AttributeError as e:\n",
    "        print(e)\n"
   ]
  },
  {
   "cell_type": "code",
   "execution_count": null,
   "metadata": {},
   "outputs": [],
   "source": [
    "## Mars Facts"
   ]
  },
  {
   "cell_type": "code",
   "execution_count": null,
   "metadata": {},
   "outputs": [],
   "source": [
    "\n",
    "mars_facts_url = 'https://space-facts.com/mars/'\n",
    "tables = pd.read_html(mars_facts_url)\n",
    "tables"
   ]
  },
  {
   "cell_type": "code",
   "execution_count": null,
   "metadata": {},
   "outputs": [],
   "source": [
    "df = tables[1]\n",
    "df.columns = ['Fact', 'Measurement']\n",
    "html_table = df.to_html()\n",
    "html_table"
   ]
  },
  {
   "cell_type": "code",
   "execution_count": null,
   "metadata": {},
   "outputs": [],
   "source": [
    "\n",
    "\n",
    ""
   ]
  }
 ],
 "metadata": {
  "kernelspec": {
   "display_name": "Python 3",
   "language": "python",
   "name": "python3"
  },
  "language_info": {
   "codemirror_mode": {
    "name": "ipython",
    "version": 3
   },
   "file_extension": ".py",
   "mimetype": "text/x-python",
   "name": "python",
   "nbconvert_exporter": "python",
   "pygments_lexer": "ipython3",
   "version": "3.7.4-final"
  }
 },
 "nbformat": 4,
 "nbformat_minor": 4
}